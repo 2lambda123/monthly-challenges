{
 "cells": [
  {
   "cell_type": "markdown",
   "metadata": {},
   "source": [
    "## Challenge 03: Minimum Makespan with Quantum Annealing\n",
    "\n",
    "Niranjan owns a catering service and receives orders one day in advance. Each of the chefs he employs is payed by the hour. In order to optimize the cost of running his business, every night, he looks at all of the dishes he needs to deliver for the next day and asks his employees to work the specific hours he requires them for.\n",
    "\n",
    "Given an order queue of length $N$ with each order $i$ taking $L_i$ time to prepare, if there are $m$ chefs, design a QUBO/Ising Hamiltonian to help Niranjan find the lowest time it would take for the $m$ chefs to prepare all $N$ dishes. \n",
    "\n",
    "Since Niranjan wants to ensure that he can run his QUBO/Ising Hamiltonian on his QC providers' free tier for as long as possible, also minimize the number of:\n",
    "1. Gates\n",
    "2. Qubits\n",
    "3. Length of chains (for QUBO)\n",
    "\n",
    "**Optional:** \n",
    "You can also attempt to build the Cost Hamiltonian or Mixer Hamiltonian [4,5]\n",
    "\n",
    "## Resources\n",
    "\\[1\\] [Job Shop Scheduling Solver based on Quantum Annealing](https://arxiv.org/pdf/1506.08479.pdf)\n",
    "\n",
    "\\[2\\] [Ising formulations of many NP problems](https://arxiv.org/pdf/1302.5843.pdf)\n",
    "\n",
    "\\[3\\] [D-Wave Examples](https://docs.ocean.dwavesys.com/en/stable/getting_started.html#examples)\n",
    "\n",
    "## References\n",
    "\\[4\\] [Quantum Algorithms for Scientific Computing and Approximate Optimization](https://arxiv.org/pdf/1805.03265.pdf)\n",
    "\n",
    "\\[5\\] [From the Quantum Approximate Optimization Algorithm to a Quantum Alternating Operator Ansatz](https://arxiv.org/pdf/1709.03489.pdf)"
   ]
  }
 ],
 "metadata": {
  "kernelspec": {
   "display_name": "Python 3",
   "language": "python",
   "name": "python3"
  },
  "language_info": {
   "codemirror_mode": {
    "name": "ipython",
    "version": 3
   },
   "file_extension": ".py",
   "mimetype": "text/x-python",
   "name": "python",
   "nbconvert_exporter": "python",
   "pygments_lexer": "ipython3",
   "version": "3.8.3"
  }
 },
 "nbformat": 4,
 "nbformat_minor": 4
}
